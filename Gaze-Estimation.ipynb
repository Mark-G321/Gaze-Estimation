{
  "cells": [
    {
      "cell_type": "markdown",
      "metadata": {
        "id": "LMRJshb-H-vu"
      },
      "source": [
        "# **The Problem of Gaze Estimation**\n",
        "\n",
        "---\n",
        "\n",
        "## **Introduction**\n",
        "\n",
        "Eye gaze is a **fundamental aspect** of non-verbal communication, providing rich information about an individual's intent and attention.\n",
        "\n",
        "**Gaze estimation** is an area in computer vision that aims to determine the direction in which a person is looking—often simplified to a single point of gaze—by analyzing visual data.\n",
        "\n",
        "This problem can be broadly categorized into **3D** and **2D gaze estimation**, each with its unique methodologies and applications.\n",
        "\n",
        "\n",
        "---\n",
        "\n",
        "## **3D and 2D Gaze Estimation**\n",
        "\n",
        "### 3D Gaze Estimation\n",
        "\n",
        "3D gaze estimation is often concerned with deriving a **vectorial representation** of the gaze direction, represented through XYZ coordinates. This approach provides flexibility in handling multiple object interactions and depth variations, which are significant factors in a three-dimensional context.\n",
        "\n",
        "Traditional methods often require intricate setups involving **infrared cameras** or **specialized glasses**.\n",
        "\n",
        "\n",
        "\n",
        "### 2D Gaze Estimation\n",
        "\n",
        "In contrast, **2D gaze estimation** identifies the gaze point on a two-dimensional plane, often a computer screen. Depth is generally less critical in 2D models, and it is commonly assumed that the gaze intersects directly with the plane.\n",
        "\n",
        "While 3D methods offer a wide range of applications, our focus will be on **2D gaze estimation**. This choice is motivated by its lower hardware requirements, often only necessitating a standard webcam, and its crucial role in human-computer interaction, making it highly relevant for everyday computing environments.\n",
        "\n",
        "\n",
        "---\n",
        "\n",
        "## **Applications of Gaze Estimation**\n",
        "\n",
        "The utility of gaze estimation spans across multiple domains.\n",
        "\n",
        "- In **human-computer interaction**, it can greatly enhance the user's experience by facilitating a hands-free interface and improving accessibility for those with mobility impairments.\n",
        "  \n",
        "- In the **automotive sector**, real-time gaze information can provide critical insights into a driver's level of attention, thereby improving safety measures.\n",
        "\n",
        "- In the **medical field**, gaze estimation can be a game-changer for both diagnostic and operational procedures. Medical professionals could control complex machinery and access vital patient information through gaze-controlled interfaces, thereby maintaining a sterile environment during surgeries.\n",
        "\n",
        "- Marketers can also employ this technology to **analyze consumer behavior** and optimize product placement and advertising strategies.\n",
        "\n",
        "## **Challenges in Accurate Gaze Estimation**\n",
        "\n",
        "Accurate gaze estimation is a complex task that involves a multitude of factors. Below are some of the key challenges:\n",
        "\n",
        "#### 1. **Head's Location and Movements**\n",
        "The position and orientation of the head can significantly affect the gaze direction. For instance, users often shift their seating positions during a computer session. A gaze that corresponds to a specific screen location when the user is seated directly in front of the computer may not correlate to the same location if the user shifts to the side. Therefore, the model must be resilient to such positional changes to maintain accuracy.\n",
        "\n",
        "#### 2. **Variations in Lighting Conditions**\n",
        "Users often operate their computers in a wide range of lighting conditions, from bright daylight to dim rooms. These variations can affect the visibility of the eyes and the performance of the model if it hasn't been trained to be invariant to lighting conditions.\n",
        "\n",
        "#### 3. **Eye Registration Errors**\n",
        "In the course of normal computer usage, it is reasonable to expect some level of eye registration errors. While minimizing these errors is crucial, completely eliminating them is often not feasible. Therefore, a robust gaze estimation model should be designed to account for occasional inaccuracies in eye registration, which could otherwise lead to erroneous output.\n",
        "\n",
        "#### 4. **Individual User Biases**\n",
        "Each individual may have unique characteristics that can introduce biases into the gaze estimation. These can range from the shape and size of the eyes to wearing glasses and even to the user's sitting position and background environment. Models need to be robust enough to handle these individual differences to ensure accurate gaze estimation.\n",
        "\n",
        "By addressing these challenges, we can move closer to developing a more accurate and reliable gaze estimation solution.\n",
        "\n",
        "\n",
        "\n",
        "\n",
        "---\n",
        "\n",
        "\n"
      ]
    },
    {
      "cell_type": "markdown",
      "metadata": {
        "id": "BwkB_ap7PHtL"
      },
      "source": [
        "## **Datasets in Gaze Estimation**\n",
        "\n",
        "Data is the backbone of any machine learning model, and gaze estimation is no exception. Several types of datasets are commonly used in this field, ranging from **synthetic datasets** generated through computer graphics to **real-world datasets** collected from eye-tracking experiments and volunteers. Some datasets focus solely on **2D gaze points**, while others offer **3D gaze vectors** along with additional information like head pose or eye region.\n",
        "\n",
        "Early datasets like **CAVE** focused on constrained lab environments with static head positions, offering limited variability but high control. In contrast, newer datasets have moved toward more unconstrained settings. **Gaze360** and **ETH-XGaze** are examples of this trend, offering data collected from multiple subjects in both indoor and outdoor scenarios, and with high variability in position—some images even include full-body representation.\n",
        "\n",
        "### The Search for the Ideal Dataset\n",
        "\n",
        "In my search for a suitable dataset for our task, several factors came into play. The first consideration was the diversity of the data, including variations in lighting, head pose, and multiple subjects. The second was the volume of the dataset, as more data generally leads to better model generalization. Finally, hardware limitations and compatibility with everyday webcams were also crucial factors.\n",
        "\n",
        "\n",
        "---\n",
        "\n",
        "\n",
        "### Introduction to MPIIFaceGaze and MPIIGaze\n",
        "\n",
        "After careful consideration, I concluded that the dataset meeting all these criteria and being particularly popular for this task was **MPIIFaceGaze**. This dataset is derived from its predecessor, **MPIIGaze**.\n",
        "\n",
        "#### **MPIIGaze**\n",
        "\n",
        "**MPIIGaze** is a dataset comprising over 200,000 images collected from 15 participants. The data was gathered over a span of three months during the participants' routine laptop usage. The collection methodology was straightforward yet effective. A software application, running in the background on the participants' laptops, prompted them every 10 minutes to focus on a sequence of 20 randomly positioned on-screen dots. Participants were instructed to fixate on these dots and confirm their gaze by pressing the spacebar just as each circle was about to disappear.\n",
        "\n",
        "Subsequent to the data collection, the images underwent a meticulous annotation process. The eye regions in the images were isolated, converted to grayscale, and normalized to facilitate subsequent analysis.\n",
        "\n",
        "\n",
        "#### **MPIIFaceGaze**\n",
        "\n",
        "The **MPIIFaceGaze** dataset was curated by Zhang et al. with the hypothesis that gaze can be more accurately predicted when the entire face is considered. Thus, **MPIIFaceGaze** indeed showed better results in numerous papers and studies, becoming one of the most used datasets in the field. MPIIFaceGaze is, in essence, the same original images which were captured in MPIIGaze, but instead of the preprocessing that was done there, it takes a different approach of leaving the face compleltly visable and only blackening the background around the head instead of just cropping the eye region as was done in MPIIGaze, in addition the dataset includes annotations of numerous facial features, and the removal of noisy data where the eye region wasnt completly visable. This means that a large part of the data cleaning was already done for us, leaving us with just minor preprocessing before the dataset is ready for use.\n",
        "\n",
        "Of course like with everything the **MPIIFaceGaze** datasets comes with its own tradeoff, specificaly arising from the need to hand monitor and annotate the facial feature, which in turn reduced the dataset size to 37,000 images across all participants. Despite that I want to argue that the quality achieved in this dataset outweights the additional images that we lost from the original **MPIIGaze**."
      ]
    },
    {
      "cell_type": "markdown",
      "metadata": {
        "id": "K5ikGBliuIMN"
      },
      "source": [
        "In the following figure we can further see why **MPIIFaceGaze** was chosen:\n",
        "\n",
        "<img src=\"https://drive.google.com/uc?export=view&id=1de8hykUZn87uGy2ztBs2SnWYrNZfnYc4\" alt=\"Image\" style=\"display: block; margin: auto;\"/>\n",
        "\n",
        "\n",
        "\n",
        "Among commonly used datasets that allow for unconstrained head movement, our choice of dataset offers superior image quality. This high-quality data is advantageous for our model, enabling it to focus on relevant features rather than background noise."
      ]
    },
    {
      "cell_type": "markdown",
      "metadata": {
        "id": "NTXjYyPZxNG5"
      },
      "source": [
        "###  **A Closer Look at MPIIFaceGaze**\n",
        "\n",
        "To provide a more comprehensive understanding of the **MPIIFaceGaze** dataset, let's examine some sample images.\n",
        "\n",
        "#### Variability in Lighting and Accessories\n",
        "The following images, taken directly from the MPIIFaceGaze dataset, illustrate the diversity in the range of participants, capturing variations not only in lighting conditions and glasses, but also in demographic attributes such as gender and ethnicity. This diversity enhances the robustness of the dataset, making it more representative of real-world conditions.\n",
        "\n",
        "<img src=\"https://drive.google.com/uc?export=view&id=11Z4tb2M78zuQjZK6IDtdlMr2MlmLA66V\" alt=\"Image\" style=\"display: block; margin: auto;\"/>\n",
        "\n",
        "\n",
        "#### Image Processing\n",
        "It's worth noting that the images in the actual dataset have undergone a specific form of processing for privacy reasons. Rather than normalizing the images to a uniform size, the dataset employs a method where the background surrounding the participants' faces is blackened. This leaves only the facial features exposed, effectively anonymizing the environment in which the photo was taken.\n",
        "\n",
        "The resulting dataset appears as follows:\n",
        "<img src=\"https://drive.google.com/uc?export=view&id=1sPXFaNIfA5Xv_eJ5gzqJtF8w1ljJg4TN\" alt=\"Image\" style=\"display: block; margin: auto;\"/>\n",
        "\n",
        "An additional benefit of blackening the background is the mitigation of background bias. By removing the contextual environment, the dataset ensures that the models trained on it focus solely on the facial features for gaze estimation, rather than being influenced by the background. This is particularly important for creating a model that generalizes well across diverse settings. Moreover, the original position of the face within the frame is preserved despite the background blackening. This is crucial for addressing one of the challenges we outlined earlier: the variability in facial positions. The negative space created by the blackened background serves as a valuable metric for assessing the relative position of the face, thereby providing another layer of information that can be leveraged for more accurate gaze estimation.\n",
        "\n",
        "\n",
        "---\n",
        "\n",
        "\n"
      ]
    },
    {
      "cell_type": "markdown",
      "metadata": {
        "id": "umOm3jkQvNNg"
      },
      "source": [
        "## **Exploratory Data Analysis (EDA)**\n",
        "In this section, we delve into the intricacies of the selected dataset to better understand its structure, distribution, and potential utility for our gaze estimation model.\n",
        "\n",
        "### **Distribution Across Participants**\n",
        "\n",
        "To begin, let's examine how the dataset is distributed among the various participants.\n",
        "\n",
        "\n",
        "<img src=\"https://drive.google.com/uc?export=view&id=162dH_bm-fwtvlHjuaYJFwIoorvHetU-h\" alt=\"Image\" style=\"display: block; margin: auto;\"/>\n",
        "\n",
        "\n",
        "The histogram illustrates a fairly balanced distribution of data across participants, ranging from approximately 1,500 to 3,000 images per individual. This balanced distribution is advantageous for several reasons:\n",
        "\n",
        "1. **Diverse Representation**: The dataset includes participants of varying genders, races, and complexions. This diversity is crucial for the model's ability to generalize across different demographic groups.\n",
        "  \n",
        "2. **Robustness to Individual Peculiarities**: A balanced dataset minimizes the risk of the model learning features that are unique to specific individuals, thereby enhancing its generalizability.\n",
        "\n",
        "By ensuring a balanced and diverse dataset, we lay a strong foundation for building a gaze estimation model that is both robust and widely applicable.\n"
      ]
    },
    {
      "cell_type": "markdown",
      "metadata": {
        "id": "tf2qwnaLtxNB"
      },
      "source": [
        "### **Mean Greyscale Intensity**\n",
        "\n",
        "Next, let's examine the mean greyscale intensity across the dataset. Understanding this metric is crucial as it provides insights into the variability of lighting conditions within the dataset—a factor that significantly impacts the model's ability to generalize.\n",
        "\n",
        "\n",
        "<img src=\"https://drive.google.com/uc?export=view&id=1Ot7-M1_JuKrs2e2sJXIAlfYfvAMNFuWF\" alt=\"Image\" style=\"display: block; margin: auto;\"/>\n",
        "\n",
        "The histogram reveals a distribution that is approximately normal, indicating a wide range of lighting conditions. This is particularly beneficial for addressing one of the challenges we discussed earlier: the model's robustness to varying lighting conditions. A dataset that captures a broad spectrum of lighting scenarios lays the groundwork for a more versatile and reliable gaze estimation model.\n"
      ]
    },
    {
      "cell_type": "markdown",
      "metadata": {
        "id": "RCdgHdf-bF20"
      },
      "source": [
        "### **Facial Positioning in the Dataset**\n",
        "\n",
        "One of the challenges previously outlined was the model's sensitivity to variations in **facial positioning**. To mitigate this issue, it is crucial that our dataset encompasses a diverse range of facial positions. However, this diversity should be within logical bounds based on typical use-cases for **2D gaze estimation**. Generally, we assume that users sit fairly centered in front of the screen and that the screen height falls within a reasonable range, affecting the **Y-axis positioning** of the face. If these assumptions are not met, the model's **gaze prediction accuracy** could be compromised.\n",
        "\n",
        "To evaluate the diversity in facial positioning within our dataset, we plotted the **centers of mass** for all the images in a scatter plot.\n",
        "\n",
        "\n",
        "<img src=\"https://drive.google.com/uc?export=view&id=1vFXgjgDHNfXmhD_xK2aVAFlgUt3D-AGN\" alt=\"Image\" style=\"display: block; margin: auto;\"/>\n",
        "\n",
        "\n",
        "The scatter plot reveals that the dataset contains an adequate variation in facial positioning across both axes. Importantly, the data points are generally centered, aligning well with our assumptions about **typical computer usage**. This centered distribution is desirable, as an overly broad spread across the entire image range would not accurately reflect **average computer use**.\n",
        "\n",
        "\n",
        "\n"
      ]
    },
    {
      "cell_type": "markdown",
      "metadata": {
        "id": "0T4sZBvuJXNE"
      },
      "source": [
        "### **Distribution of Gaze Points**\n",
        "\n",
        "Another crucial aspect to examine is the **distribution of gaze points** captured in our dataset. Ideally, we would prefer a uniform distribution within the relevant range. However, before delving into this, it is important to address a factor we have thus far overlooked: the **variation in screen sizes**.\n",
        "\n",
        "We can anticipate that users will employ screens with diverse sizes and resolutions. Failing to account for this would severely limit our model's ability to **generalize across different devices**. To simplify this issue, we have decided to standardize on the most common screen resolution for modern single-screen setups, which is **1920x1080**. Fortunately, the MPIIFaceGaze dataset provides the screen sizes of the participants, allowing us to transform the given coordinates into our assumed range.\n",
        "\n",
        "After applying this filtering, we obtain the following graph:\n",
        "\n",
        "<img src=\"https://drive.google.com/uc?export=view&id=1a1CSzhl5QLcuD1dVX1GDDPpi-AcvqWwf\" alt=\"Image\" style=\"display: block; margin: auto;\"/>\n",
        "\n",
        "As evident from the graph, all coordinates are well-represented in our dataset, suggesting a **robust distribution of training data** for our model. To further investigate this, let's examine the distribution within the range:\n",
        "\n",
        "<img src=\"https://drive.google.com/uc?export=view&id=1VPnLz9SQvpddKiVBA_-U5QpZOMBfWPEE\" alt=\"Image\" style=\"display: block; margin: auto;\"/>\n",
        "\n",
        "The distribution effectively captures the **expected gaze locations**. As anticipated, the edges of the screen experience less gaze activity compared to the center. The transition between these areas is smooth, aligning perfectly with what we would desire from our dataset.\n"
      ]
    },
    {
      "cell_type": "markdown",
      "source": [
        "\n",
        "\n",
        "---\n",
        "\n"
      ],
      "metadata": {
        "id": "axMPF34FgcIh"
      }
    },
    {
      "cell_type": "markdown",
      "metadata": {
        "id": "7Dl6R-hLAdtY"
      },
      "source": [
        "## **The Naive Approach**\n",
        "\n",
        "Armed with an in-depth understanding of our dataset and a clearly defined problem statement, we are now prepared to venture into the realm of gaze prediction.\n",
        "\n",
        "### **Pipeline Overview**\n",
        "Our overarching goal is to develop a pipeline that takes a facial image—captured in real-time via a webcam—as input, applies the necessary preprocessing steps, and then feeds it into a regression-based model. The output from this model will be a pair of coordinates \\(x, y\\), representing the gaze point on the screen.\n",
        "\n",
        "### **Initial Strategy**\n",
        "We will commence with a naive approach, which involves using the facial images in their original form. These images will be fed into a Convolutional Neural Network (CNN) equipped with a linear regression head to predict the gaze coordinates. Given that this is our first attempt at solving this problem, we do not anticipate achieving high accuracy right away. However, we do aim to establish that the problem is \"learnable.\" In other words, we seek to confirm that standard webcam images of faces contain sufficient information to predict gaze points, and that there is a meaningful correlation between the appearance of the eyes and the screen coordinates.\n",
        "\n",
        "### **Implementation Steps**\n",
        "1. **Data Preparation and Loading**: Our first task is to prepare and load the dataset.\n",
        "2. **Test-Train Split**: We will partition the dataset into a smaller test set and a training set.\n",
        "3. **Model Definition**: A simple CNN model will be defined for this initial experiment.\n",
        "4. **Model Training**: We will proceed to train the model using the training set.\n",
        "5. **Evaluation**: Finally, we will assess the model's performance on the test set to gauge the accuracy achieved.\n",
        "\n",
        "By following this approach, we aim to lay the groundwork for more sophisticated models and techniques in subsequent iterations.\n"
      ]
    },
    {
      "cell_type": "markdown",
      "metadata": {
        "id": "GbbZUOkGIHXO"
      },
      "source": [
        "\n",
        "\n",
        "---\n",
        "\n",
        "\n",
        "We shall start by loading the dataset,  accessible for download [here.](https://www.mpi-inf.mpg.de/departments/computer-vision-and-machine-learning/research/gaze-based-human-computer-interaction/its-written-all-over-your-face-full-face-appearance-based-gaze-estimation)\n"
      ]
    },
    {
      "cell_type": "code",
      "source": [
        "# Import necessary libraries\n",
        "from google.colab import drive\n",
        "import os\n",
        "from scipy.io import loadmat\n",
        "import pickle\n",
        "\n",
        "import torch\n",
        "from torch.utils.data import Dataset, DataLoader, random_split\n",
        "from torchvision import transforms\n",
        "import torch.nn as nn\n",
        "import torch.nn.functional as F\n",
        "\n",
        "import cv2\n",
        "import matplotlib.pyplot as plt\n",
        "import numpy as np\n",
        "from tqdm.notebook import tqdm"
      ],
      "metadata": {
        "id": "ZylYg_oKQ3Yl"
      },
      "execution_count": 1,
      "outputs": []
    },
    {
      "cell_type": "code",
      "execution_count": 2,
      "metadata": {
        "colab": {
          "base_uri": "https://localhost:8080/"
        },
        "id": "1ArMEcM9AvA-",
        "outputId": "39c9e768-4597-4c8c-d7f5-84e3e27b4781"
      },
      "outputs": [
        {
          "output_type": "stream",
          "name": "stdout",
          "text": [
            "Mounted at /content/drive\n",
            "/content/drive/MyDrive/DataSets\n"
          ]
        }
      ],
      "source": [
        "# Mount Google Drive\n",
        "drive.mount('/content/drive')\n",
        "\n",
        "# Navigate to the folder where your dataset is stored\n",
        "%cd /content/drive/MyDrive/DataSets\n",
        "\n",
        "# Uncomment the following line if the dataset needs to be unzipped for the first time\n",
        "# Subsequent runs should not require unzipping.\n",
        "#!unzip \"MPIIFaceGaze.zip\""
      ]
    },
    {
      "cell_type": "markdown",
      "metadata": {
        "id": "onm1BTG-pWgO"
      },
      "source": [
        "Due to the substantial size of the dataset, it is impractical to load the entire dataset into memory. Therefore, our initial step will involve storing the file paths of the images along with their corresponding labels in a list. This approach allows for efficient memory management while facilitating easy access to the data during subsequent stages of the project."
      ]
    },
    {
      "cell_type": "code",
      "execution_count": 3,
      "metadata": {
        "colab": {
          "base_uri": "https://localhost:8080/"
        },
        "id": "8IM4i7NUKvGC",
        "outputId": "0ec6cd1b-e4bd-4fce-9d21-613b964363ba"
      },
      "outputs": [
        {
          "output_type": "stream",
          "name": "stdout",
          "text": [
            "Total number of images gathered: 37667\n"
          ]
        }
      ],
      "source": [
        "# The root directory where the dataset resides\n",
        "root_directory = '/content/drive/MyDrive/DataSets/MPIIFaceGaze'\n",
        "\n",
        "# List for image paths and their gaze coordinates\n",
        "image_data = []\n",
        "\n",
        "# Generate a list of participant ids\n",
        "participant_ids = [f\"p{str(index).zfill(2)}\" for index in range(15)]\n",
        "\n",
        "# Iterate over each participant's folder to gather image paths and gaze coordinates\n",
        "for participant_id in participant_ids:\n",
        "  # Construct the paths for the participant's directory, annotation file, and calibration data\n",
        "  participant_directory = os.path.join(root_directory, participant_id)\n",
        "  annotation_filepath = os.path.join(participant_directory, f\"{participant_id}.txt\")\n",
        "  calibration_filepath = os.path.join(participant_directory, 'Calibration', 'screenSize.mat')\n",
        "\n",
        "  # Load the screen size calibration data\n",
        "  calibration_data = loadmat(calibration_filepath)\n",
        "  screen_height, screen_width = int(calibration_data['height_pixel']), int(calibration_data['width_pixel'])\n",
        "\n",
        "  # Read the annotation file and extract relevant data\n",
        "  with open(annotation_filepath, 'r') as annotation_file:\n",
        "    for line in annotation_file:\n",
        "      # Parse each line to extract relevant fields\n",
        "      fields = line.strip().split()\n",
        "      image_filepath = os.path.join(participant_directory, fields[0])\n",
        "\n",
        "      # Normalize the screen resolution\n",
        "      normalized_x = int(fields[1]) * 1920 / screen_width\n",
        "      normalized_y = int(fields[2]) * 1080 / screen_height\n",
        "\n",
        "      # Append the image filepath and normalized coordinates to the list\n",
        "      image_data.append((image_filepath, (normalized_x, normalized_y)))\n",
        "\n",
        "print(f\"Total number of images gathered: {len(image_data)}\")"
      ]
    },
    {
      "cell_type": "markdown",
      "metadata": {
        "id": "PS-vz6oQQtkb"
      },
      "source": [
        "We can see that we started with **37,667** images.\n",
        "Next, we'll sift through this data to weed out any outliers, inconsistent images, and labels that don't quite add up."
      ]
    },
    {
      "cell_type": "code",
      "execution_count": 7,
      "metadata": {
        "colab": {
          "base_uri": "https://localhost:8080/"
        },
        "id": "nEbtKvjqP6Yy",
        "outputId": "f0e5f8ba-6f17-401b-abd1-4f64ee9f0d4a"
      },
      "outputs": [
        {
          "output_type": "stream",
          "name": "stdout",
          "text": [
            "Loaded 37416 filtered images from /content/drive/MyDrive/DataSets/WS/filtered_images.pkl\n"
          ]
        }
      ],
      "source": [
        "def filter_image(img_data):\n",
        "  img_path, (x_coord, y_coord) = img_data\n",
        "  # Check that the coordinates add up\n",
        "  if x_coord > 1920 or y_coord > 1080:\n",
        "    return None\n",
        "  image = cv2.imread(img_path)\n",
        "\n",
        "  # Check if the image exists in the dataset\n",
        "  if image is None:\n",
        "    return None\n",
        "  # Check that the image shape lines up with the rest of the dataset\n",
        "  if image.shape[:2] != (720, 1280):\n",
        "    return None\n",
        "  return (img_path, (x_coord, y_coord))\n",
        "\n",
        "# Define the name of the file where the filtered_images list will be saved\n",
        "pickle_file = \"/content/drive/MyDrive/DataSets/WS/filtered_images.pkl\"  # Change the path as needed\n",
        "\n",
        "# Initialize an empty list to store filtered image data\n",
        "filtered_images = []\n",
        "\n",
        "# Check if the pickle file already exists\n",
        "if os.path.exists(pickle_file):\n",
        "  # Load the filtered_images list from the pickle file\n",
        "  with open(pickle_file, 'rb') as f:\n",
        "    filtered_images = pickle.load(f)\n",
        "  print(f\"Loaded {len(filtered_images)} filtered images from {pickle_file}\")\n",
        "else:\n",
        "  # No file was found\n",
        "  print(\"No saved file was found\")\n",
        "  # Loop through the list of images to filter them\n",
        "  for img_data in tqdm(image_data):\n",
        "    filtered_img = filter_image(img_data)\n",
        "    if filtered_img is not None:\n",
        "      filtered_images.append(filtered_img)\n",
        "\n",
        "  # Save the filtered_images list to a pickle file\n",
        "  with open(pickle_file, 'wb') as f:\n",
        "    pickle.dump(filtered_images, f)\n",
        "\n",
        "  print(f\"Saved {len(filtered_images)} filtered images to {pickle_file}\")\n",
        "\n",
        "\n"
      ]
    },
    {
      "cell_type": "markdown",
      "metadata": {
        "id": "zpVYTxdoswav"
      },
      "source": [
        "After filtering, we are left with a total of **37,417** images that meet our criteria for training. Given the substantial size of our image data, it is impractical to load the entire dataset into memory simultaneously. Therefore, we will use PyTorch's custom Dataset and DataLoader to efficiently load small batches of data during the training process."
      ]
    },
    {
      "cell_type": "code",
      "execution_count": 13,
      "metadata": {
        "id": "FKdaNO_es5gk"
      },
      "outputs": [],
      "source": [
        "# Define constants\n",
        "BATCH_SIZE = 8\n",
        "TRAIN_RATIO = 0.8\n",
        "SEED = 42\n",
        "\n",
        "# Extract paths and coordinates from filtered_images\n",
        "# Note that the paths are needed to be adjusted to fit the Google Colab standard\n",
        "corrected_paths = ['/content/drive/MyDrive/DataSets' + img[0][1:].replace(\"\\\\\", \"/\") for img in filtered_images]\n",
        "coords = [img[1] for img in filtered_images]\n",
        "\n",
        "# Define the GazeDataset class\n",
        "class GazeDataset(Dataset):\n",
        "  def __init__(self, image_paths, coordinates, transform=None):\n",
        "    self.image_paths = image_paths\n",
        "    self.coordinates = coordinates\n",
        "    self.transform = transform\n",
        "\n",
        "  def __len__(self):\n",
        "    return len(self.image_paths)\n",
        "\n",
        "  def __getitem__(self, idx):\n",
        "    img_path = self.image_paths[idx]\n",
        "    coords = self.coordinates[idx]\n",
        "\n",
        "    img = cv2.imread(img_path)\n",
        "    if img is None:\n",
        "      print(f\"Image not found at {img_path}\")\n",
        "      return None\n",
        "\n",
        "    img = cv2.cvtColor(img, cv2.COLOR_BGR2GRAY)\n",
        "\n",
        "    if self.transform:\n",
        "      img = self.transform(img)\n",
        "\n",
        "    return img, torch.tensor(coords, dtype=torch.float32)\n",
        "\n",
        "# Initialize transformations and datasets\n",
        "transform = transforms.ToTensor()\n",
        "gaze_dataset = GazeDataset(corrected_paths, coords, transform=transform)\n",
        "\n",
        "# Split the dataset\n",
        "train_size = int(TRAIN_RATIO * len(gaze_dataset))\n",
        "test_size = len(gaze_dataset) - train_size\n",
        "# Note that we use a generator with a manual seed to ensure that our training and testing sets remain consistent across multiple sessions\n",
        "train_dataset, test_dataset = random_split(gaze_dataset, [train_size, test_size], generator=torch.Generator().manual_seed(SEED))\n",
        "\n",
        "# Initialize DataLoaders\n",
        "train_loader = DataLoader(train_dataset, batch_size=BATCH_SIZE, shuffle=True)\n",
        "test_loader = DataLoader(test_dataset, batch_size=BATCH_SIZE, shuffle=False)\n",
        "\n"
      ]
    },
    {
      "cell_type": "markdown",
      "source": [
        "Next we will define the model architecture, at this stage we chose to use a simple **CNN**, before later developing a more complex architecture and techniques.\n"
      ],
      "metadata": {
        "id": "ppEpLq6xQfVl"
      }
    },
    {
      "cell_type": "code",
      "source": [
        "class SimpleCNN(nn.Module):\n",
        "  def __init__(self):\n",
        "    super(SimpleCNN, self).__init__()\n",
        "    self.conv1 = nn.Conv2d(1, 16, kernel_size=3, padding=1)\n",
        "    self.conv2 = nn.Conv2d(16, 32, kernel_size=3, padding=1)\n",
        "    self.conv3 = nn.Conv2d(32, 64, kernel_size=3, padding=1)\n",
        "    self.conv4 = nn.Conv2d(64, 128, kernel_size=3, padding=1)\n",
        "\n",
        "    self.fc1 = nn.Linear(128 * 45 * 80, 128)\n",
        "    self.fc2 = nn.Linear(128, 2)\n",
        "\n",
        "  def forward(self, x):\n",
        "    x = F.max_pool2d(F.relu(self.conv1(x)), 2)\n",
        "    x = F.max_pool2d(F.relu(self.conv2(x)), 2)\n",
        "    x = F.max_pool2d(F.relu(self.conv3(x)), 2)\n",
        "    x = F.max_pool2d(F.relu(self.conv4(x)), 2)\n",
        "\n",
        "    x = torch.flatten(x, 1)\n",
        "    #print(x.shape)\n",
        "    x = F.relu(self.fc1(x))\n",
        "    x = self.fc2(x)\n",
        "    return x\n",
        "\n",
        "# Check if CUDA is available and set the device accordingly\n",
        "device = torch.device(\"cuda:0\" if torch.cuda.is_available() else \"cpu\")\n",
        "\n",
        "# Initialize the model and move it to the device\n",
        "model = SimpleCNN().to(device)\n",
        "print(f\"Model initialized on {device}\")"
      ],
      "metadata": {
        "id": "-cxJw0AhQiFl",
        "colab": {
          "base_uri": "https://localhost:8080/"
        },
        "outputId": "83af0f96-7efc-468f-bbaf-c8f796af10db"
      },
      "execution_count": 14,
      "outputs": [
        {
          "output_type": "stream",
          "name": "stdout",
          "text": [
            "Model initialized on cuda:0\n"
          ]
        }
      ]
    },
    {
      "cell_type": "markdown",
      "source": [
        "Before proceeding with the training loop, several key considerations warrant attention.\n",
        "\n",
        "Firstly, given the extended time required for each training epoch, the model is trained across **multiple sessions**. To accommodate this, the state of the model, along with other important parameters, are periodically saved and reloaded as necessary.\n",
        "\n",
        "Secondly, we are monitoring the loss metrics for both the training and test datasets throughout the training cycle. This tracking is particularly crucial when training spans multiple sessions, as it aids in identifying the point at which additional training yields diminishing improvements in test set performance and when overfitting begins to occur.\n",
        "\n",
        "Lastly, our initial approach aims to perform gaze regression directly from unprocessed images. For this purpose, we have chosen **Mean Squared Error** (MSE) as our loss function, a standard choice for regression problems. Additionally, we have selected the **Adam** optimizer, which incorporates first and second momentum techniques. This choice is expected to expedite the convergence of our simple model while minimizing oscillations. This choice is also driven by our limitation on the number of epochs we can train our model for."
      ],
      "metadata": {
        "id": "fg6l84upQ3H7"
      }
    },
    {
      "cell_type": "code",
      "execution_count": 22,
      "metadata": {
        "colab": {
          "base_uri": "https://localhost:8080/",
          "height": 427
        },
        "id": "t93WW4ynPFgr",
        "outputId": "f6c1e766-3de9-4d35-ad15-39aaf41843da"
      },
      "outputs": [
        {
          "output_type": "stream",
          "name": "stdout",
          "text": [
            "Model found and loaded.\n"
          ]
        },
        {
          "output_type": "display_data",
          "data": {
            "text/plain": [
              "<Figure size 1200x400 with 1 Axes>"
            ],
            "image/png": "[encoded data removed]"
          },
          "metadata": {}
        }
      ],
      "source": [
        "# Initialize loss function, optimizer, and learning rate scheduler\n",
        "criterion = torch.nn.MSELoss()\n",
        "optimizer = torch.optim.Adam(model.parameters(), lr=0.001)\n",
        "\n",
        "# Initialize lists to store training and testing losses\n",
        "train_losses = []\n",
        "test_losses = []\n",
        "\n",
        "# Load model if a checkpoint exists\n",
        "try:\n",
        "  checkpoint = torch.load(\"/content/drive/MyDrive/DataSets/model_checkpoint.pth\")\n",
        "  model.load_state_dict(checkpoint['model_state_dict'])\n",
        "  optimizer.load_state_dict(checkpoint['optimizer_state_dict'])\n",
        "  train_losses = checkpoint['train_losses']\n",
        "  test_losses = checkpoint['test_losses']\n",
        "  start_epoch = checkpoint['epoch'] + 1\n",
        "  print(\"Model found and loaded.\")\n",
        "except FileNotFoundError:\n",
        "  print(\"No model was found.\")\n",
        "  start_epoch = 0\n",
        "\n",
        "# Training loop\n",
        "num_epochs = 8\n",
        "for epoch in range(start_epoch, num_epochs):\n",
        "    model.train()\n",
        "    running_loss = 0.0\n",
        "    for i, data in enumerate(tqdm(train_loader), 0):\n",
        "      inputs, labels = data\n",
        "      inputs, labels = inputs.to(device), labels.to(device)\n",
        "      optimizer.zero_grad()\n",
        "      outputs = model(inputs)\n",
        "      loss = criterion(outputs, labels)\n",
        "      loss.backward()\n",
        "      optimizer.step()\n",
        "      running_loss += loss.item()\n",
        "\n",
        "    train_losses.append(running_loss / len(train_loader))\n",
        "\n",
        "    # Evaluate on test data\n",
        "    model.eval()\n",
        "    test_loss = 0.0\n",
        "    with torch.no_grad():\n",
        "      for data in tqdm(test_loader):\n",
        "        inputs, labels = data\n",
        "        inputs, labels = inputs.to(device), labels.to(device)\n",
        "        outputs = model(inputs)\n",
        "        loss = criterion(outputs, labels)\n",
        "        test_loss += loss.item()\n",
        "\n",
        "    test_losses.append(test_loss / len(test_loader))\n",
        "\n",
        "    print(f\"Epoch {epoch+1}, Train Loss: {train_losses[-1]}, Test Loss: {test_losses[-1]}\")\n",
        "\n",
        "    # Save model, optimizer, and scheduler state after each epoch\n",
        "    torch.save({\n",
        "      'epoch': epoch,\n",
        "      'model_state_dict': model.state_dict(),\n",
        "      'optimizer_state_dict': optimizer.state_dict(),\n",
        "      'train_losses': train_losses,\n",
        "      'test_losses': test_losses,\n",
        "    }, \"/content/drive/MyDrive/DataSets/model_checkpoint.pth\")\n",
        "\n",
        "# Plotting the training and testing loss\n",
        "plt.figure(figsize=(12, 4))\n",
        "plt.subplot(1, 2, 1)\n",
        "plt.plot(range(1, num_epochs+1), train_losses[:8], label='Train')\n",
        "plt.plot(range(1, num_epochs+1), test_losses[:8], label='Test')\n",
        "plt.title('Loss vs. Epochs')\n",
        "plt.xlabel('Epochs')\n",
        "plt.ylabel('Loss')\n",
        "plt.legend()\n",
        "plt.show()\n"
      ]
    },
    {
      "cell_type": "markdown",
      "source": [
        "\n",
        "## Conclusion and Next Steps\n",
        "\n",
        "**We are stopping the model training at this point.** As observed, the test loss continues to decrease, albeit not as rapidly as we would like, Whilst the training loss keeps rapidly decreasing. This might indicate that the model is overfiting to the data.\n",
        "\n",
        "Despite that, this initial experiment with a basic CNN model has been **successful** for us. It's important to remember that the primary goal was not to train a fully sufficient model right away, but rather to **verify that the dataset contains enough information for a model to learn**. This experience has provided us with **valuable insights**.\n",
        "\n",
        "### Key Takeaways:\n",
        "\n",
        "1. **Dimensionality and Training Time**:  \n",
        "   Due to the long training time and the high dimensionality of the dataset, we need to consider methods for **reducing data dimensionality** to speed up training.\n",
        "\n",
        "2. **Data Input Process**:  \n",
        "   The data input process could be improved. By making simple modifications to the data, we can **emphasize the features we want the model to focus on**. This will not only reduce the data's dimensionality but also **accelerate the model's learning rate**. Specifically, we anticipate a **significant drop in loss during the initial epochs**.\n",
        "\n",
        "3. **Model Refinement**:  \n",
        "   Our current model is simple, taking basic images and reducing their dimensionality through convolutions while attempting to capture the most important features. This approach can be **further refined**. Even without resorting to a very deep model—which would be computationally expensive at this stage—we can **fine-tune the model to better align with the most informative data**. This will allow us to reduce the number of convolutions while still **distilling the most crucial information before the linear regression head**.\n",
        "\n",
        "\n",
        "\n",
        "\n",
        "\n",
        "\n",
        "\n",
        "\n",
        "\n",
        "\n",
        "\n",
        "\n",
        "\n",
        "\n",
        "\n",
        "\n",
        "\n",
        "\n",
        "\n",
        "\n",
        "\n",
        "\n"
      ],
      "metadata": {
        "id": "x8CXD2vORkwr"
      }
    },
    {
      "cell_type": "markdown",
      "source": [
        "## Visualizing Model Performance\n",
        "\n",
        "To better understand the performance of our simple CNN model, we will **visually compare the actual gaze points with the predicted gaze points**. This visual representation will be more intuitive and informative than just looking at loss metrics, which might not be easily interpretable.\n",
        "\n",
        "### Methodology:\n",
        "\n",
        "We will select a **few random samples from the dataset** and plot both the real and predicted gaze points on a **simulated computer screen**. The dimensions of this simulated screen will be **1920x1080 pixels**.\n",
        "\n",
        "By doing this, we aim to provide a **human-readable evaluation** of how well our model is performing in terms of gaze prediction.\n"
      ],
      "metadata": {
        "id": "xJtqWDwXIuqX"
      }
    },
    {
      "cell_type": "code",
      "source": [
        "# Ensure the model is in evaluation mode\n",
        "model.eval()\n",
        "\n",
        "# Initialize the plot\n",
        "fig, axes = plt.subplots(2, 5, figsize=(30, 8))\n",
        "axes = axes.flatten()\n",
        "\n",
        "# Configure plot appearance to simulate a screen\n",
        "for ax in axes:\n",
        "  ax.set_facecolor('black')\n",
        "  ax.set_xlim([0, 1920])  # Set x-axis limits\n",
        "  ax.set_ylim([0, 1080])  # Set y-axis limits\n",
        "\n",
        "\n",
        "# Take 10 images from the test set\n",
        "for i, (inputs, labels) in enumerate(test_loader):\n",
        "  if i>=10: break\n",
        "  # Move inputs and labels to the device where the model resides\n",
        "  inputs, labels = inputs.to(device), labels.to(device)\n",
        "\n",
        "  # Forward pass to get model outputs\n",
        "  with torch.no_grad():\n",
        "      outputs = model(inputs)\n",
        "\n",
        "  # Convert outputs and labels to NumPy arrays\n",
        "  outputs = outputs.cpu().numpy()\n",
        "  labels = labels.cpu().numpy()\n",
        "\n",
        "  # Calculate the distance between the real and predicted points (using euclidean distance)\n",
        "  distance = np.sqrt(np.sum((labels[0] - outputs[0]) ** 2))\n",
        "\n",
        "  # Plot the real and predicted coordinates\n",
        "  ax = axes[i]\n",
        "  ax.scatter(labels[0, 0], labels[0, 1], color='red', label='Real' if i == 0 else \"\")\n",
        "  ax.scatter(outputs[0, 0], outputs[0, 1], color='blue', label='Predicted' if i == 0 else \"\")\n",
        "  ax.set_title(f\"Distance: {distance:.2f}\")\n",
        "\n",
        "# Add legend to the first subplot\n",
        "axes[0].legend()\n",
        "\n",
        "# Show the plot\n",
        "plt.show()\n"
      ],
      "metadata": {
        "colab": {
          "base_uri": "https://localhost:8080/",
          "height": 444
        },
        "id": "dxYbQRhCOJ6K",
        "outputId": "9acf2144-8f44-4583-fda5-50b31368516c"
      },
      "execution_count": 17,
      "outputs": [
        {
          "output_type": "display_data",
          "data": {
            "text/plain": [
              "<Figure size 3000x800 with 10 Axes>"
            ],
            "image/png": "[encoded data removed]"
          },
          "metadata": {}
        }
      ]
    },
    {
      "cell_type": "markdown",
      "source": [
        "---\n",
        "\n",
        "**From the visualizations**, it is evident that the model has successfully identified certain image features that correlate with gaze direction. However, the **accuracy remains suboptimal**, and in some instances, the model's predictions deviate significantly. Despite these shortcomings, the model generally approximates the gaze direction, albeit with a considerable margin of error.\n",
        "\n",
        "Our findings are **promising** in two key aspects: first, the problem at hand is **learnable**, and second, the images contain features that **correlate with gaze points**. Armed with this knowledge and an understanding of our **limitations**—particularly concerning **training time** and the need for **dimensionality reduction**—we can proceed to address these challenges.\n",
        "\n",
        "### **Identified Problems and Proposed Solutions**\n",
        "\n",
        "#### **Problem 1: Dimensionality and Data Preprocessing**  \n",
        "Given the high dimensionality of the images and the sizable dataset, it is imperative to streamline the data fed into the model.  \n",
        "**Solution:**  \n",
        "Our **initial approach** to solving this problem will raise a discussion on exactly what information we want our model to focus on. To understand this better, consider the analogy of a laser pointer problem: where a laser pointer is aimed in a particular direction, the goal is to predict where the laser dot will appear when the device is activated. In this simplified thought experiment, elements such as the background or the shape of the laser pointer itself are inconsequential. What would truly matters is the actual exit point of the laser and its relative position in space.\n",
        "\n",
        "Applying this principle to our gaze estimation challenge allows us to **refine the scope** of our problem. Instead of estimating the gaze from the complete image—which, for context, contains the face with the background removed—we can **narrow our focus** to two main features: the eyes and the facial location within the image. This approach aligns with the core elements that matter in the laser pointer analogy, thereby providing a more targeted and potentially effective method for gaze prediction.\n",
        "\n",
        "\n",
        "#### **Problem 2: Hardware and Time Constraints**  \n",
        "Given our limitations, we aim to experiment with various model architectures to identify the most efficient one.  \n",
        "**Solution:**  \n",
        "Utilizing deep pre-trained models as feature extractors could serve as a starting point for further training and optimization on our relativly thin model, thereby reducing **computational time** and enabling the use of more **complex models**.\n",
        "\n",
        "####**Problem 3: Resolution**  \n",
        "During our manual attempts to predict gaze direction, a realization emerged: perhaps the most crucial features for gaze estimation are condensed into a very small number of pixels—specifically, the eyes. It's possible that the image quality and resolution are far below what's needed for an effective gaze estimation model. This issue is well-known in the field and is a primary reason why infrared cameras are often employed in gaze estimation studies.\n",
        "\n",
        "However, our objective is to develop a model that functions even with standard webcams. This necessitates exploring non-mechanical methods to enhance the eye region before feeding it into the model. Among the ideas considered are the use of filters to improve eye contrast, thereby aiding the model in capturing the direction in which the eyes are pointed. Additionally, we are contemplating the application of feature extraction techniques to the eye images themselves, aiming to capture variations in their shape as a feature of gaze direction. For instance, feature extractors like HOG (Histogram of Oriented Gradients) and SIFT are under consideration. These are just a few of the ideas that have been raised.\n",
        "\n",
        "### **Next Steps**  \n",
        "With the problems and potential solutions now clearly outlined, let's turn our attention to the first issue at hand: the presence of redundant information in our images. This not only increases computational time but may also impede the model's learning process. Several strategies have been considered to address this. Initially, we propose cropping the eye region from the original images and using the remaining features to encode the head's 3D position relative to the camera.\n",
        "\n",
        "Even with this refined approach, several considerations arise. For instance, should the eyes be presented together in a single image to be processed by one Convolutional Neural Network (CNN), or should they be separated and each fed into distinct CNNs? This would allow for the extraction of gaze features that are invariant to the specific eye from which they originated. Another consideration involves the encoding of head position. While the initial idea was to simply pass the four corners of a bounding box around the face, this has evolved into a more sophisticated grid mapping representation. In this scheme, a grid of a predetermined size is generated for each image, and the head's relative location within the original image is inscribed onto this grid. This ensures that adequate information about both the position and relative size of the head is retained, which is also indicative of the depth dimension.\n",
        "\n",
        "At this juncture, we have opted not to employ pretrained models as feature extractors. This decision is made to rigorously test our current hypothesis concerning the types of input information—specifically, the eyes and the encoded head location—that are most beneficial for our model. Similarly, we will refrain from any further data modifications at this stage. This is to isolate the impact of input changes on the model's evolution and performance. Should we observe a notable improvement in performance, we will then proceed to explore image enhancement techniques.\n",
        "\n",
        "---\n"
      ],
      "metadata": {
        "id": "4DLSNSewlWFv"
      }
    }
  ],
  "metadata": {
    "accelerator": "GPU",
    "colab": {
      "provenance": [],
      "gpuType": "T4"
    },
    "kernelspec": {
      "display_name": "Python 3",
      "name": "python3"
    },
    "language_info": {
      "name": "python"
    }
  },
  "nbformat": 4,
  "nbformat_minor": 0
}